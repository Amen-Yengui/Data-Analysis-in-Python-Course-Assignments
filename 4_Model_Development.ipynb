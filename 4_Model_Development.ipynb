{
  "nbformat": 4,
  "nbformat_minor": 0,
  "metadata": {
    "colab": {
      "name": "4.Model_Development.ipynb",
      "version": "0.3.2",
      "provenance": [],
      "collapsed_sections": [
        "fs-B2afL7ZNK"
      ],
      "include_colab_link": true
    },
    "kernelspec": {
      "display_name": "Python 3",
      "language": "python",
      "name": "python3"
    }
  },
  "cells": [
    {
      "cell_type": "markdown",
      "metadata": {
        "id": "view-in-github",
        "colab_type": "text"
      },
      "source": [
        "[View in Colaboratory](https://colab.research.google.com/github/Shubham-kale/Data-Analysis-in-Python-Course-Assignments/blob/master/4_Model_Development.ipynb)"
      ]
    },
    {
      "metadata": {
        "id": "YMHaAkrj7ZHi",
        "colab_type": "text"
      },
      "cell_type": "markdown",
      "source": [
        " <a href=\"https://www.bigdatauniversity.com\"><img src = \"https://ibm.box.com/shared/static/ugcqz6ohbvff804xp84y4kqnvvk3bq1g.png\" width = 300, align = \"center\"></a>\n",
        "\n",
        "<h1 align=center><font size = 5>Data Analysis with Python</font></h1>"
      ]
    },
    {
      "metadata": {
        "id": "FI5KyHCb7ZHm",
        "colab_type": "text"
      },
      "cell_type": "markdown",
      "source": [
        "# Module 4: Model Development"
      ]
    },
    {
      "metadata": {
        "id": "zfwkLpjh7ZHn",
        "colab_type": "text"
      },
      "cell_type": "markdown",
      "source": [
        "In this section, we will develop several models that will predict the price of the car using the variables or features. This is just an estimate but should give us an objective idea of how much the car should cost."
      ]
    },
    {
      "metadata": {
        "id": "IRNF4JWW7ZHo",
        "colab_type": "text"
      },
      "cell_type": "markdown",
      "source": [
        "Some questions we want to ask in this module\n",
        "- How do I know if the dealer is offering fair value for my trade-in? \n",
        "- How do I know if I put a fair value on my car?\n",
        "In Data Analytics, we often use **Model Development** to help us predict future observations from the data we have. \n",
        "\n",
        "A Model will help us understand the exact relationship between different variables and how these variables are used to predict the result."
      ]
    },
    {
      "metadata": {
        "id": "bqqbMznk7ZHq",
        "colab_type": "text"
      },
      "cell_type": "markdown",
      "source": [
        "#### Setup"
      ]
    },
    {
      "metadata": {
        "id": "Kyd-BlKP7ZHq",
        "colab_type": "text"
      },
      "cell_type": "markdown",
      "source": [
        " Import libraries"
      ]
    },
    {
      "metadata": {
        "id": "ZfOjIXNr7ZHs",
        "colab_type": "code",
        "colab": {}
      },
      "cell_type": "code",
      "source": [
        "import pandas as pd\n",
        "import numpy as np\n",
        "import matplotlib.pyplot as plt"
      ],
      "execution_count": 0,
      "outputs": []
    },
    {
      "metadata": {
        "id": "Z1wdFAp97ZHz",
        "colab_type": "text"
      },
      "cell_type": "markdown",
      "source": [
        "load data and store in dataframe df:"
      ]
    },
    {
      "metadata": {
        "id": "q09jThCy7ZH0",
        "colab_type": "code",
        "colab": {
          "base_uri": "https://localhost:8080/",
          "height": 334
        },
        "outputId": "4791af3a-327f-4173-a0f5-3e5a54e37d95"
      },
      "cell_type": "code",
      "source": [
        "# path of data \n",
        "path = 'https://ibm.box.com/shared/static/q6iiqb1pd7wo8r3q28jvgsrprzezjqk3.csv'\n",
        "df = pd.read_csv(path)\n",
        "df.head()"
      ],
      "execution_count": 2,
      "outputs": [
        {
          "output_type": "execute_result",
          "data": {
            "text/html": [
              "<div>\n",
              "<style scoped>\n",
              "    .dataframe tbody tr th:only-of-type {\n",
              "        vertical-align: middle;\n",
              "    }\n",
              "\n",
              "    .dataframe tbody tr th {\n",
              "        vertical-align: top;\n",
              "    }\n",
              "\n",
              "    .dataframe thead th {\n",
              "        text-align: right;\n",
              "    }\n",
              "</style>\n",
              "<table border=\"1\" class=\"dataframe\">\n",
              "  <thead>\n",
              "    <tr style=\"text-align: right;\">\n",
              "      <th></th>\n",
              "      <th>Unnamed: 0</th>\n",
              "      <th>symboling</th>\n",
              "      <th>normalized-losses</th>\n",
              "      <th>make</th>\n",
              "      <th>aspiration</th>\n",
              "      <th>num-of-doors</th>\n",
              "      <th>body-style</th>\n",
              "      <th>drive-wheels</th>\n",
              "      <th>engine-location</th>\n",
              "      <th>wheel-base</th>\n",
              "      <th>...</th>\n",
              "      <th>compression-ratio</th>\n",
              "      <th>horsepower</th>\n",
              "      <th>peak-rpm</th>\n",
              "      <th>city-mpg</th>\n",
              "      <th>highway-mpg</th>\n",
              "      <th>price</th>\n",
              "      <th>city-L/100km</th>\n",
              "      <th>horsepower-binned</th>\n",
              "      <th>diesel</th>\n",
              "      <th>gas</th>\n",
              "    </tr>\n",
              "  </thead>\n",
              "  <tbody>\n",
              "    <tr>\n",
              "      <th>0</th>\n",
              "      <td>0</td>\n",
              "      <td>3</td>\n",
              "      <td>122</td>\n",
              "      <td>alfa-romero</td>\n",
              "      <td>std</td>\n",
              "      <td>two</td>\n",
              "      <td>convertible</td>\n",
              "      <td>rwd</td>\n",
              "      <td>front</td>\n",
              "      <td>88.6</td>\n",
              "      <td>...</td>\n",
              "      <td>9.0</td>\n",
              "      <td>111.0</td>\n",
              "      <td>5000.0</td>\n",
              "      <td>21</td>\n",
              "      <td>27</td>\n",
              "      <td>13495.0</td>\n",
              "      <td>11.190476</td>\n",
              "      <td>Medium</td>\n",
              "      <td>0</td>\n",
              "      <td>1</td>\n",
              "    </tr>\n",
              "    <tr>\n",
              "      <th>1</th>\n",
              "      <td>1</td>\n",
              "      <td>3</td>\n",
              "      <td>122</td>\n",
              "      <td>alfa-romero</td>\n",
              "      <td>std</td>\n",
              "      <td>two</td>\n",
              "      <td>convertible</td>\n",
              "      <td>rwd</td>\n",
              "      <td>front</td>\n",
              "      <td>88.6</td>\n",
              "      <td>...</td>\n",
              "      <td>9.0</td>\n",
              "      <td>111.0</td>\n",
              "      <td>5000.0</td>\n",
              "      <td>21</td>\n",
              "      <td>27</td>\n",
              "      <td>16500.0</td>\n",
              "      <td>11.190476</td>\n",
              "      <td>Medium</td>\n",
              "      <td>0</td>\n",
              "      <td>1</td>\n",
              "    </tr>\n",
              "    <tr>\n",
              "      <th>2</th>\n",
              "      <td>2</td>\n",
              "      <td>1</td>\n",
              "      <td>122</td>\n",
              "      <td>alfa-romero</td>\n",
              "      <td>std</td>\n",
              "      <td>two</td>\n",
              "      <td>hatchback</td>\n",
              "      <td>rwd</td>\n",
              "      <td>front</td>\n",
              "      <td>94.5</td>\n",
              "      <td>...</td>\n",
              "      <td>9.0</td>\n",
              "      <td>154.0</td>\n",
              "      <td>5000.0</td>\n",
              "      <td>19</td>\n",
              "      <td>26</td>\n",
              "      <td>16500.0</td>\n",
              "      <td>12.368421</td>\n",
              "      <td>Medium</td>\n",
              "      <td>0</td>\n",
              "      <td>1</td>\n",
              "    </tr>\n",
              "    <tr>\n",
              "      <th>3</th>\n",
              "      <td>3</td>\n",
              "      <td>2</td>\n",
              "      <td>164</td>\n",
              "      <td>audi</td>\n",
              "      <td>std</td>\n",
              "      <td>four</td>\n",
              "      <td>sedan</td>\n",
              "      <td>fwd</td>\n",
              "      <td>front</td>\n",
              "      <td>99.8</td>\n",
              "      <td>...</td>\n",
              "      <td>10.0</td>\n",
              "      <td>102.0</td>\n",
              "      <td>5500.0</td>\n",
              "      <td>24</td>\n",
              "      <td>30</td>\n",
              "      <td>13950.0</td>\n",
              "      <td>9.791667</td>\n",
              "      <td>Medium</td>\n",
              "      <td>0</td>\n",
              "      <td>1</td>\n",
              "    </tr>\n",
              "    <tr>\n",
              "      <th>4</th>\n",
              "      <td>4</td>\n",
              "      <td>2</td>\n",
              "      <td>164</td>\n",
              "      <td>audi</td>\n",
              "      <td>std</td>\n",
              "      <td>four</td>\n",
              "      <td>sedan</td>\n",
              "      <td>4wd</td>\n",
              "      <td>front</td>\n",
              "      <td>99.4</td>\n",
              "      <td>...</td>\n",
              "      <td>8.0</td>\n",
              "      <td>115.0</td>\n",
              "      <td>5500.0</td>\n",
              "      <td>18</td>\n",
              "      <td>22</td>\n",
              "      <td>17450.0</td>\n",
              "      <td>13.055556</td>\n",
              "      <td>Medium</td>\n",
              "      <td>0</td>\n",
              "      <td>1</td>\n",
              "    </tr>\n",
              "  </tbody>\n",
              "</table>\n",
              "<p>5 rows × 30 columns</p>\n",
              "</div>"
            ],
            "text/plain": [
              "   Unnamed: 0  symboling  normalized-losses         make aspiration  \\\n",
              "0           0          3                122  alfa-romero        std   \n",
              "1           1          3                122  alfa-romero        std   \n",
              "2           2          1                122  alfa-romero        std   \n",
              "3           3          2                164         audi        std   \n",
              "4           4          2                164         audi        std   \n",
              "\n",
              "  num-of-doors   body-style drive-wheels engine-location  wheel-base ...   \\\n",
              "0          two  convertible          rwd           front        88.6 ...    \n",
              "1          two  convertible          rwd           front        88.6 ...    \n",
              "2          two    hatchback          rwd           front        94.5 ...    \n",
              "3         four        sedan          fwd           front        99.8 ...    \n",
              "4         four        sedan          4wd           front        99.4 ...    \n",
              "\n",
              "   compression-ratio  horsepower  peak-rpm  city-mpg highway-mpg    price  \\\n",
              "0                9.0       111.0    5000.0        21          27  13495.0   \n",
              "1                9.0       111.0    5000.0        21          27  16500.0   \n",
              "2                9.0       154.0    5000.0        19          26  16500.0   \n",
              "3               10.0       102.0    5500.0        24          30  13950.0   \n",
              "4                8.0       115.0    5500.0        18          22  17450.0   \n",
              "\n",
              "   city-L/100km horsepower-binned  diesel  gas  \n",
              "0     11.190476            Medium       0    1  \n",
              "1     11.190476            Medium       0    1  \n",
              "2     12.368421            Medium       0    1  \n",
              "3      9.791667            Medium       0    1  \n",
              "4     13.055556            Medium       0    1  \n",
              "\n",
              "[5 rows x 30 columns]"
            ]
          },
          "metadata": {
            "tags": []
          },
          "execution_count": 2
        }
      ]
    },
    {
      "metadata": {
        "id": "PGb-pTve7ZH4",
        "colab_type": "text"
      },
      "cell_type": "markdown",
      "source": [
        "### 1. Linear Regression and Multiple Linear Regression "
      ]
    },
    {
      "metadata": {
        "id": "snbyBLaO7ZH5",
        "colab_type": "text"
      },
      "cell_type": "markdown",
      "source": [
        "####  Linear Regression"
      ]
    },
    {
      "metadata": {
        "id": "Fhj9FgOV7ZH7",
        "colab_type": "text"
      },
      "cell_type": "markdown",
      "source": [
        "\n",
        "One example of a Data  Model that we will be using is \n",
        " **Simple Linear Regression**.\n",
        "Simple Linear Regression is a method to help us understand the relationship between two variables:\n",
        "- The predictor/independent variable (X)\n",
        "- The response/dependent variable (that we want to predict)(Y)\n",
        "\n",
        "\n",
        "The result of Linear Regression is a **linear function** that predicts the response (dependent) variable as a function of the predictor (independent) variable. \n",
        "\n"
      ]
    },
    {
      "metadata": {
        "id": "KhePhO2t7ZH7",
        "colab_type": "text"
      },
      "cell_type": "markdown",
      "source": [
        "\\begin{equation*}\n",
        " Y: Response \\ Variable\\\\\n",
        " X :Predictor\\ Variables\n",
        "\\end{equation*}\n"
      ]
    },
    {
      "metadata": {
        "id": "vTYX8Neu7ZH9",
        "colab_type": "text"
      },
      "cell_type": "markdown",
      "source": [
        " **Linear function:**\n",
        "\\begin{equation*}\n",
        "Yhat = a + b  X\n",
        "\\end{equation*}\n"
      ]
    },
    {
      "metadata": {
        "id": "eB-YL0b27ZH-",
        "colab_type": "text"
      },
      "cell_type": "markdown",
      "source": [
        "- a refers to the **intercept** of the regression, in other words: the value of Y when X is 0 \n",
        "- b refers to the **slope** of the regression line, in other words: the value with which Y changes when X increases by 1.\n",
        "\n",
        "\n",
        "\n"
      ]
    },
    {
      "metadata": {
        "id": "tT2HiyWZ7ZH_",
        "colab_type": "text"
      },
      "cell_type": "markdown",
      "source": [
        "####  Lets load the modules for linear regression"
      ]
    },
    {
      "metadata": {
        "id": "szf28tFs7ZIB",
        "colab_type": "code",
        "colab": {}
      },
      "cell_type": "code",
      "source": [
        "from sklearn.linear_model import LinearRegression"
      ],
      "execution_count": 0,
      "outputs": []
    },
    {
      "metadata": {
        "id": "Zwqb-Idi7ZIF",
        "colab_type": "text"
      },
      "cell_type": "markdown",
      "source": [
        "#### Create the linear regression object"
      ]
    },
    {
      "metadata": {
        "id": "UoEB0sHC7ZIG",
        "colab_type": "code",
        "colab": {
          "base_uri": "https://localhost:8080/",
          "height": 35
        },
        "outputId": "8f5f595a-d484-4d15-dc01-58af5a6d96be"
      },
      "cell_type": "code",
      "source": [
        "lm = LinearRegression()\n",
        "lm"
      ],
      "execution_count": 4,
      "outputs": [
        {
          "output_type": "execute_result",
          "data": {
            "text/plain": [
              "LinearRegression(copy_X=True, fit_intercept=True, n_jobs=1, normalize=False)"
            ]
          },
          "metadata": {
            "tags": []
          },
          "execution_count": 4
        }
      ]
    },
    {
      "metadata": {
        "id": "xexNpkaC7ZIL",
        "colab_type": "text"
      },
      "cell_type": "markdown",
      "source": [
        "#### How could Highway-mpg help us predict car price?"
      ]
    },
    {
      "metadata": {
        "id": "dJb33W-r7ZIM",
        "colab_type": "text"
      },
      "cell_type": "markdown",
      "source": [
        "For this example, we want to look at how highway-mpg can help us predict car price.\n",
        "Using simple linear regression, we will create a linear function with \"highway-mpg\" as the predictor variable and the \"price\" as the response variable."
      ]
    },
    {
      "metadata": {
        "id": "LFlH9RdF7ZIQ",
        "colab_type": "code",
        "colab": {}
      },
      "cell_type": "code",
      "source": [
        "X = df[['highway-mpg']]\n",
        "Y = df['price']"
      ],
      "execution_count": 0,
      "outputs": []
    },
    {
      "metadata": {
        "id": "z4C0HKlw7ZIT",
        "colab_type": "text"
      },
      "cell_type": "markdown",
      "source": [
        "Fit the linear model using highway-mpg."
      ]
    },
    {
      "metadata": {
        "id": "MJqroYgv7ZIV",
        "colab_type": "code",
        "colab": {
          "base_uri": "https://localhost:8080/",
          "height": 35
        },
        "outputId": "50f9017e-aebb-4e9b-a514-83ca1ab5a918"
      },
      "cell_type": "code",
      "source": [
        "lm.fit(X,Y)"
      ],
      "execution_count": 6,
      "outputs": [
        {
          "output_type": "execute_result",
          "data": {
            "text/plain": [
              "LinearRegression(copy_X=True, fit_intercept=True, n_jobs=1, normalize=False)"
            ]
          },
          "metadata": {
            "tags": []
          },
          "execution_count": 6
        }
      ]
    },
    {
      "metadata": {
        "id": "JMMjP1sH7ZIY",
        "colab_type": "text"
      },
      "cell_type": "markdown",
      "source": [
        " We can output a prediction "
      ]
    },
    {
      "metadata": {
        "id": "R76eojtT7ZIZ",
        "colab_type": "code",
        "colab": {
          "base_uri": "https://localhost:8080/",
          "height": 54
        },
        "outputId": "f76c6ce9-daca-4c94-bc8c-39be38230254"
      },
      "cell_type": "code",
      "source": [
        "Yhat=lm.predict(X)\n",
        "Yhat[0:5]   "
      ],
      "execution_count": 7,
      "outputs": [
        {
          "output_type": "execute_result",
          "data": {
            "text/plain": [
              "array([16236.50464347, 16236.50464347, 17058.23802179, 13771.3045085 ,\n",
              "       20345.17153508])"
            ]
          },
          "metadata": {
            "tags": []
          },
          "execution_count": 7
        }
      ]
    },
    {
      "metadata": {
        "id": "bvgX5qnX7ZId",
        "colab_type": "text"
      },
      "cell_type": "markdown",
      "source": [
        "#### What is the value of the intercept (a) ?"
      ]
    },
    {
      "metadata": {
        "id": "Qs-ptx-I7ZIf",
        "colab_type": "code",
        "colab": {
          "base_uri": "https://localhost:8080/",
          "height": 35
        },
        "outputId": "bfcec08b-6aea-40dc-af15-3e03f9d62f79"
      },
      "cell_type": "code",
      "source": [
        "lm.intercept_"
      ],
      "execution_count": 8,
      "outputs": [
        {
          "output_type": "execute_result",
          "data": {
            "text/plain": [
              "38423.3058581574"
            ]
          },
          "metadata": {
            "tags": []
          },
          "execution_count": 8
        }
      ]
    },
    {
      "metadata": {
        "id": "gn8OlMBg7ZIo",
        "colab_type": "text"
      },
      "cell_type": "markdown",
      "source": [
        "#### What is the value of the Slope (b) ?"
      ]
    },
    {
      "metadata": {
        "id": "8PMks16u7ZIq",
        "colab_type": "code",
        "colab": {
          "base_uri": "https://localhost:8080/",
          "height": 35
        },
        "outputId": "f9277c1c-f079-427b-9b94-250a8a8efef2"
      },
      "cell_type": "code",
      "source": [
        "lm.coef_"
      ],
      "execution_count": 9,
      "outputs": [
        {
          "output_type": "execute_result",
          "data": {
            "text/plain": [
              "array([-821.73337832])"
            ]
          },
          "metadata": {
            "tags": []
          },
          "execution_count": 9
        }
      ]
    },
    {
      "metadata": {
        "id": "2SXFBzbi7ZIt",
        "colab_type": "text"
      },
      "cell_type": "markdown",
      "source": [
        "### What is the final estimated linear model we get?"
      ]
    },
    {
      "metadata": {
        "id": "W7njTBUs7ZIv",
        "colab_type": "text"
      },
      "cell_type": "markdown",
      "source": [
        "As we saw above, we should get a final linear model with the structure:"
      ]
    },
    {
      "metadata": {
        "id": "pHxe7E_W7ZIw",
        "colab_type": "text"
      },
      "cell_type": "markdown",
      "source": [
        " \\begin{equation*}\n",
        "Yhat = a + b  X\n",
        "\\end{equation*}"
      ]
    },
    {
      "metadata": {
        "id": "Uc77DQgI7ZIx",
        "colab_type": "text"
      },
      "cell_type": "markdown",
      "source": [
        "Plugging in the actual values we get:"
      ]
    },
    {
      "metadata": {
        "id": "x_Z8znEJ7ZIy",
        "colab_type": "text"
      },
      "cell_type": "markdown",
      "source": [
        "**price** = 38423.31 - 821.73 x  **highway-mpg**"
      ]
    },
    {
      "metadata": {
        "id": "OYEUpLWZF1y1",
        "colab_type": "text"
      },
      "cell_type": "markdown",
      "source": [
        " <div class=\"alert alert-danger alertdanger\" style=\"margin-top: 20px\">\n",
        "<h1> Question  #1a): </h1>\n",
        "\n",
        "<b>Create a linear regression object?</b>\n",
        "</div>"
      ]
    },
    {
      "metadata": {
        "id": "r4FZlReEF1o3",
        "colab_type": "code",
        "colab": {
          "base_uri": "https://localhost:8080/",
          "height": 35
        },
        "outputId": "b85e2205-f26c-4192-8abc-3fe4e0d8f8fa"
      },
      "cell_type": "code",
      "source": [
        "lm1 = LinearRegression()\n",
        "lm1 "
      ],
      "execution_count": 10,
      "outputs": [
        {
          "output_type": "execute_result",
          "data": {
            "text/plain": [
              "LinearRegression(copy_X=True, fit_intercept=True, n_jobs=1, normalize=False)"
            ]
          },
          "metadata": {
            "tags": []
          },
          "execution_count": 10
        }
      ]
    },
    {
      "metadata": {
        "id": "dECtGYdt7ZI5",
        "colab_type": "text"
      },
      "cell_type": "markdown",
      "source": [
        "<div class=\"alert alert-danger alertdanger\" style=\"margin-top: 20px\">\n",
        "<h1> Question  #1b): </h1>\n",
        "\n",
        "<b> Train the model using 'engine-size' as the independent variable and 'price' as the dependent variable?</b>\n",
        "</div>"
      ]
    },
    {
      "metadata": {
        "id": "3DqdkL3c7ZI6",
        "colab_type": "code",
        "colab": {
          "base_uri": "https://localhost:8080/",
          "height": 35
        },
        "outputId": "dbbd2a56-a3fb-4505-ac26-c43989866db6"
      },
      "cell_type": "code",
      "source": [
        "lm1.fit(df[['highway-mpg']], df[['price']])\n",
        "lm1"
      ],
      "execution_count": 11,
      "outputs": [
        {
          "output_type": "execute_result",
          "data": {
            "text/plain": [
              "LinearRegression(copy_X=True, fit_intercept=True, n_jobs=1, normalize=False)"
            ]
          },
          "metadata": {
            "tags": []
          },
          "execution_count": 11
        }
      ]
    },
    {
      "metadata": {
        "id": "LnA_NsPO7ZI-",
        "colab_type": "text"
      },
      "cell_type": "markdown",
      "source": [
        " <div class=\"alert alert-danger alertdanger\" style=\"margin-top: 20px\">\n",
        "<h1> Question  #1c): </h1>\n",
        "\n",
        "<b> Find the slope and intercept of the model?</b>\n",
        "</div>"
      ]
    },
    {
      "metadata": {
        "id": "NYSRia8-7ZI_",
        "colab_type": "text"
      },
      "cell_type": "markdown",
      "source": [
        "#### Slope "
      ]
    },
    {
      "metadata": {
        "id": "aUqIb8Lk7ZJB",
        "colab_type": "code",
        "colab": {
          "base_uri": "https://localhost:8080/",
          "height": 35
        },
        "outputId": "df87294e-dc85-4276-f405-ad35db2481ad"
      },
      "cell_type": "code",
      "source": [
        "lm1.coef_"
      ],
      "execution_count": 13,
      "outputs": [
        {
          "output_type": "execute_result",
          "data": {
            "text/plain": [
              "array([[-821.73337832]])"
            ]
          },
          "metadata": {
            "tags": []
          },
          "execution_count": 13
        }
      ]
    },
    {
      "metadata": {
        "id": "ndgY0l-f7ZJH",
        "colab_type": "text"
      },
      "cell_type": "markdown",
      "source": [
        "#### Intercept"
      ]
    },
    {
      "metadata": {
        "id": "WcsgKGNT7ZJI",
        "colab_type": "code",
        "colab": {
          "base_uri": "https://localhost:8080/",
          "height": 35
        },
        "outputId": "ef5ae12a-8d6d-433e-f3b2-57074057124e"
      },
      "cell_type": "code",
      "source": [
        "lm1.intercept_\n"
      ],
      "execution_count": 14,
      "outputs": [
        {
          "output_type": "execute_result",
          "data": {
            "text/plain": [
              "array([38423.30585816])"
            ]
          },
          "metadata": {
            "tags": []
          },
          "execution_count": 14
        }
      ]
    },
    {
      "metadata": {
        "id": "dxiWg3Kf7ZJV",
        "colab_type": "text"
      },
      "cell_type": "markdown",
      "source": [
        "<div class=\"alert alert-danger alertdanger\" style=\"margin-top: 20px\">\n",
        "<h1> Question  #1d): </h1>\n",
        "\n",
        "<b> What is the equation of the predicted line. You can use x and yhat or ''engine-size'  or  'price'?</b>\n",
        "# using X and Y  \n",
        "Yhat=38423.31-821.733*X\n",
        "\n",
        "Price=38423.31-821.733*engine-size\n",
        "</div>"
      ]
    },
    {
      "metadata": {
        "id": "Lsi2838d7ZJY",
        "colab_type": "text"
      },
      "cell_type": "markdown",
      "source": [
        "####  Multiple Linear Regression"
      ]
    },
    {
      "metadata": {
        "id": "g8y3CLgN7ZJZ",
        "colab_type": "text"
      },
      "cell_type": "markdown",
      "source": [
        " What if we want to predict car price using more than one variable? \n",
        "\n",
        "If we want to use more variables in our model to predict car price, we can use **Multiple Linear Regression**.\n",
        "Multiple Linear Regression is very similar to Simple Linear Regression, but this method is used to explain the relationship between one continuous response (dependent) variable and *two or more* predictor (independent) variables.\n",
        "Most of the real-world regression models involve multiple predictors. We illustrate the structure by using four predictor variables, but these results can generalize to any integer :\n"
      ]
    },
    {
      "metadata": {
        "id": "g0bzzjlR7ZJa",
        "colab_type": "text"
      },
      "cell_type": "markdown",
      "source": [
        " \\begin{equation*}\n",
        "Y: Response \\ Variable\\\\\n",
        "X_1 :Predictor\\ Variable \\ 1\\\\\n",
        "X_2: Predictor\\ Variable \\ 2\\\\\n",
        "X_3: Predictor\\ Variable \\ 3\\\\\n",
        "X_4: Predictor\\ Variable \\ 4\\\\\n",
        "\\end{equation*}\n"
      ]
    },
    {
      "metadata": {
        "id": "QC7Wnv0z7ZJb",
        "colab_type": "text"
      },
      "cell_type": "markdown",
      "source": [
        " \\begin{equation*}\n",
        "a: intercept\\\\\n",
        "b_1 :coefficients \\ of\\ Variable \\ 1\\\\\n",
        "b_2: coefficients \\ of\\ Variable \\ 2\\\\\n",
        "b_3: coefficients \\ of\\ Variable \\ 3\\\\\n",
        "b_4: coefficients \\ of\\ Variable \\ 4\\\\\n",
        "\\end{equation*}\n"
      ]
    },
    {
      "metadata": {
        "id": "2NNFB9uY7ZJd",
        "colab_type": "text"
      },
      "cell_type": "markdown",
      "source": [
        " The equation is given by "
      ]
    },
    {
      "metadata": {
        "id": "AlF4b8Kp7ZJd",
        "colab_type": "text"
      },
      "cell_type": "markdown",
      "source": [
        " \\begin{equation*}\n",
        "Yhat = a + b_1 X_1 + b_2 X_2 + b_3 X_3 + b_4 X_4\n",
        "\\end{equation*}\n",
        "\n"
      ]
    },
    {
      "metadata": {
        "id": "EeaiFO0k7ZJe",
        "colab_type": "text"
      },
      "cell_type": "markdown",
      "source": [
        "From the previous section  we know that other good predictors of price could be: \n",
        "- Horsepower\n",
        "- Curb-weight\n",
        "- Engine-size\n",
        "- Highway-mpg\n",
        "\n",
        "Let's develop a model using these variables as the predictor variables."
      ]
    },
    {
      "metadata": {
        "id": "Z9anZcJ57ZJg",
        "colab_type": "code",
        "colab": {}
      },
      "cell_type": "code",
      "source": [
        "Z = df[['horsepower', 'curb-weight', 'engine-size', 'highway-mpg']]"
      ],
      "execution_count": 0,
      "outputs": []
    },
    {
      "metadata": {
        "id": "2Njqw2j_7ZJj",
        "colab_type": "text"
      },
      "cell_type": "markdown",
      "source": [
        "Fit the linear model using the four above-mentioned variables."
      ]
    },
    {
      "metadata": {
        "id": "1UbYuoDf7ZJk",
        "colab_type": "code",
        "colab": {
          "base_uri": "https://localhost:8080/",
          "height": 35
        },
        "outputId": "fdc99ab8-f1a5-4609-cae3-eeecc6bbb497"
      },
      "cell_type": "code",
      "source": [
        " lm.fit(Z, df['price'])\n"
      ],
      "execution_count": 16,
      "outputs": [
        {
          "output_type": "execute_result",
          "data": {
            "text/plain": [
              "LinearRegression(copy_X=True, fit_intercept=True, n_jobs=1, normalize=False)"
            ]
          },
          "metadata": {
            "tags": []
          },
          "execution_count": 16
        }
      ]
    },
    {
      "metadata": {
        "id": "uIpS0JN47ZJn",
        "colab_type": "text"
      },
      "cell_type": "markdown",
      "source": [
        " What is the value of the intercept(a)?"
      ]
    },
    {
      "metadata": {
        "id": "TaDaipbX7ZJo",
        "colab_type": "code",
        "colab": {
          "base_uri": "https://localhost:8080/",
          "height": 35
        },
        "outputId": "08c04840-8ddf-4f6d-98cc-c6834e2e0ba1"
      },
      "cell_type": "code",
      "source": [
        "lm.intercept_"
      ],
      "execution_count": 17,
      "outputs": [
        {
          "output_type": "execute_result",
          "data": {
            "text/plain": [
              "-15806.62462632922"
            ]
          },
          "metadata": {
            "tags": []
          },
          "execution_count": 17
        }
      ]
    },
    {
      "metadata": {
        "id": "6SOT4My97ZJr",
        "colab_type": "text"
      },
      "cell_type": "markdown",
      "source": [
        " What are the values of the coefficients (b1, b2, b3, b4) ?"
      ]
    },
    {
      "metadata": {
        "id": "GwjrRVcb7ZJs",
        "colab_type": "code",
        "colab": {
          "base_uri": "https://localhost:8080/",
          "height": 35
        },
        "outputId": "6817bb7f-ad7f-4269-f866-c99fb12d8b1e"
      },
      "cell_type": "code",
      "source": [
        "lm.coef_"
      ],
      "execution_count": 18,
      "outputs": [
        {
          "output_type": "execute_result",
          "data": {
            "text/plain": [
              "array([53.49574423,  4.70770099, 81.53026382, 36.05748882])"
            ]
          },
          "metadata": {
            "tags": []
          },
          "execution_count": 18
        }
      ]
    },
    {
      "metadata": {
        "id": "dhvc5vB_7ZJw",
        "colab_type": "text"
      },
      "cell_type": "markdown",
      "source": [
        " What is the final estimated linear model that we get?"
      ]
    },
    {
      "metadata": {
        "id": "tbI4E-uI7ZJy",
        "colab_type": "text"
      },
      "cell_type": "markdown",
      "source": [
        "As we saw above, we should get a final linear function with the structure:\n",
        "\n",
        " \\begin{equation*}\n",
        "Yhat = a + b_1 X_1 + b_2 X_2 + b_3 X_3 + b_4 X_4\n",
        "\\end{equation*}\n",
        "\n",
        "What is the linear function we get in this example?"
      ]
    },
    {
      "metadata": {
        "id": "bz5VcDli7ZJy",
        "colab_type": "text"
      },
      "cell_type": "markdown",
      "source": [
        "**Price** = -15678.742628061467 + 52.65851272 x **horsepower** + 4.69878948 x **curb-weight** + 81.95906216 x **engine-size** + 33.58258185 x **highway-mpg**"
      ]
    },
    {
      "metadata": {
        "id": "y5dPh9oj7ZJz",
        "colab_type": "text"
      },
      "cell_type": "markdown",
      "source": [
        "<div class=\"alert alert-danger alertdanger\" style=\"margin-top: 20px\">\n",
        "<h1> Question  #2a): </h1>\n",
        "Create and train a  Multiple Linear Regression model \"lm2\" where the response variable is price, and the predictor variable is  'normalized-losses' and  'highway-mpg'.\n",
        "<b> ?</b>\n",
        "</div>"
      ]
    },
    {
      "metadata": {
        "id": "RLC75ZrH7ZJ0",
        "colab_type": "code",
        "colab": {
          "base_uri": "https://localhost:8080/",
          "height": 35
        },
        "outputId": "a9caeddd-b88c-4a6b-ec69-f9d0b51713d3"
      },
      "cell_type": "code",
      "source": [
        "lm2 = LinearRegression()\n",
        "lm2.fit(df[['normalized-losses' , 'highway-mpg']],df['price'])\n"
      ],
      "execution_count": 19,
      "outputs": [
        {
          "output_type": "execute_result",
          "data": {
            "text/plain": [
              "LinearRegression(copy_X=True, fit_intercept=True, n_jobs=1, normalize=False)"
            ]
          },
          "metadata": {
            "tags": []
          },
          "execution_count": 19
        }
      ]
    },
    {
      "metadata": {
        "id": "am7iuIlL7ZJ4",
        "colab_type": "text"
      },
      "cell_type": "markdown",
      "source": [
        "<div class=\"alert alert-danger alertdanger\" style=\"margin-top: 20px\">\n",
        "<h1> Question  #2a): </h1>\n",
        "<b> Find the coefficient of the model?</b>\n",
        "</div>"
      ]
    },
    {
      "metadata": {
        "id": "SKs1BjsFIcIi",
        "colab_type": "code",
        "colab": {
          "base_uri": "https://localhost:8080/",
          "height": 35
        },
        "outputId": "e0ba4436-40fc-46f1-b80c-b6fbf0cf5037"
      },
      "cell_type": "code",
      "source": [
        "lm2.coef_"
      ],
      "execution_count": 20,
      "outputs": [
        {
          "output_type": "execute_result",
          "data": {
            "text/plain": [
              "array([   1.49789586, -820.45434016])"
            ]
          },
          "metadata": {
            "tags": []
          },
          "execution_count": 20
        }
      ]
    },
    {
      "metadata": {
        "id": "MDA10kBf7ZJ6",
        "colab_type": "text"
      },
      "cell_type": "markdown",
      "source": [
        "### 2)  Model Evaluation using Visualization"
      ]
    },
    {
      "metadata": {
        "id": "lALI9xZx7ZJ7",
        "colab_type": "text"
      },
      "cell_type": "markdown",
      "source": [
        "Now that we've developed some models, how do we evaluate our models and how do we choose the best one? One way to do this is by using visualization."
      ]
    },
    {
      "metadata": {
        "id": "9Zx-tcXR7ZJ8",
        "colab_type": "text"
      },
      "cell_type": "markdown",
      "source": [
        "import the visualization package: seaborn"
      ]
    },
    {
      "metadata": {
        "id": "m9eFT-ZZ7ZJ9",
        "colab_type": "code",
        "colab": {}
      },
      "cell_type": "code",
      "source": [
        "# import the visualization package: seaborn\n",
        "import seaborn as sns\n",
        "%matplotlib inline "
      ],
      "execution_count": 0,
      "outputs": []
    },
    {
      "metadata": {
        "id": "fDuQL1JJ7ZKA",
        "colab_type": "text"
      },
      "cell_type": "markdown",
      "source": [
        "### Regression Plot"
      ]
    },
    {
      "metadata": {
        "id": "4-JtUafD7ZKB",
        "colab_type": "text"
      },
      "cell_type": "markdown",
      "source": [
        "When it comes to simple linear regression, an excellent way to visualise the fit of our model is by using **regression plots**.\n",
        "\n",
        "This plot will show a combination of a scattered data points (a **scatterplot**), as well as the fitted **linear regression** line going through the data. This will give us a reasonable estimate of the relationship between the two variables, the strength of the correlation, as well as the direction (positive or negative correlation)."
      ]
    },
    {
      "metadata": {
        "id": "XGWPfbhH7ZKB",
        "colab_type": "text"
      },
      "cell_type": "markdown",
      "source": [
        " Let's visualize Horsepower as potential predictor variable of price:"
      ]
    },
    {
      "metadata": {
        "id": "XceOYEcD7ZKC",
        "colab_type": "code",
        "colab": {
          "base_uri": "https://localhost:8080/",
          "height": 625
        },
        "outputId": "493e9f35-52b4-4a51-ceae-ac208e3a13be"
      },
      "cell_type": "code",
      "source": [
        "width = 12\n",
        "height = 10\n",
        "plt.figure(figsize=(width, height))\n",
        "sns.regplot(x=\"highway-mpg\", y=\"price\", data=df)\n",
        "plt.ylim(0,)"
      ],
      "execution_count": 22,
      "outputs": [
        {
          "output_type": "execute_result",
          "data": {
            "text/plain": [
              "(0, 48262.25651856063)"
            ]
          },
          "metadata": {
            "tags": []
          },
          "execution_count": 22
        },
        {
          "output_type": "display_data",
          "data": {
            "image/png": "[encoded data removed]",
            "text/plain": [
              "<matplotlib.figure.Figure at 0x7f92cbd60908>"
            ]
          },
          "metadata": {
            "tags": []
          }
        }
      ]
    },
    {
      "metadata": {
        "id": "Nltrj71R7ZKF",
        "colab_type": "text"
      },
      "cell_type": "markdown",
      "source": [
        "We can see from this plot that price is negatively correlated to highway-mpg, since the regression slope is negative.\n",
        "One thing to keep in mind when looking at a regression plot is to pay attention to how scattered the data points are around the regression line. This will give you a good indication of the variance of the data, and whether a linear model would be the best fit or not. If the data is too far off from the line, this linear model might not be the best model for this data. Let's compare this plot to the regression plot of \"peak-rpm\"."
      ]
    },
    {
      "metadata": {
        "id": "lUoUb6EV7ZKG",
        "colab_type": "code",
        "colab": {
          "base_uri": "https://localhost:8080/",
          "height": 625
        },
        "outputId": "2435df49-181a-4727-8495-f30cfa0e2cf4"
      },
      "cell_type": "code",
      "source": [
        "plt.figure(figsize=(width, height))\n",
        "sns.regplot(x=\"peak-rpm\", y=\"price\", data=df)\n",
        "plt.ylim(0,)"
      ],
      "execution_count": 23,
      "outputs": [
        {
          "output_type": "execute_result",
          "data": {
            "text/plain": [
              "(0, 47424.38921869223)"
            ]
          },
          "metadata": {
            "tags": []
          },
          "execution_count": 23
        },
        {
          "output_type": "display_data",
          "data": {
            "image/png": "[encoded data removed]",
            "text/plain": [
              "<matplotlib.figure.Figure at 0x7f92cbca3390>"
            ]
          },
          "metadata": {
            "tags": []
          }
        }
      ]
    },
    {
      "metadata": {
        "id": "7MICbGdH7ZKJ",
        "colab_type": "text"
      },
      "cell_type": "markdown",
      "source": [
        "Comparing the regression plot of \"peak-rpm\" and \"highway-mpg\" We see that the points for \"highway-mpg\" are much closer to the generated line and on the average decrease. The points for \"peak-rpm\"  have more spread around the predicted line, and it is much harder to determine if the points are decreasing or increasing as the  \"highway-mpg\"  increases."
      ]
    },
    {
      "metadata": {
        "id": "fhNd48Xa7ZKK",
        "colab_type": "text"
      },
      "cell_type": "markdown",
      "source": [
        " <div class=\"alert alert-danger alertdanger\" style=\"margin-top: 20px\">\n",
        "<h1> Question  #3: </h1>\n",
        "<b> Given the regression plots above is \"peak-rpm\" or \"highway-mpg\"  more strongly correlated with \"price\". Use the method  \".corr()\"  to verify your answer. </b>\n",
        "</div>"
      ]
    },
    {
      "metadata": {
        "id": "oWceaPDW7ZKL",
        "colab_type": "code",
        "colab": {
          "base_uri": "https://localhost:8080/",
          "height": 138
        },
        "outputId": "efaed9b0-855d-4613-a132-39401d0d3fb7"
      },
      "cell_type": "code",
      "source": [
        "df[[\"peak-rpm\",\"highway-mpg\",\"price\"]].corr()"
      ],
      "execution_count": 24,
      "outputs": [
        {
          "output_type": "execute_result",
          "data": {
            "text/html": [
              "<div>\n",
              "<style scoped>\n",
              "    .dataframe tbody tr th:only-of-type {\n",
              "        vertical-align: middle;\n",
              "    }\n",
              "\n",
              "    .dataframe tbody tr th {\n",
              "        vertical-align: top;\n",
              "    }\n",
              "\n",
              "    .dataframe thead th {\n",
              "        text-align: right;\n",
              "    }\n",
              "</style>\n",
              "<table border=\"1\" class=\"dataframe\">\n",
              "  <thead>\n",
              "    <tr style=\"text-align: right;\">\n",
              "      <th></th>\n",
              "      <th>peak-rpm</th>\n",
              "      <th>highway-mpg</th>\n",
              "      <th>price</th>\n",
              "    </tr>\n",
              "  </thead>\n",
              "  <tbody>\n",
              "    <tr>\n",
              "      <th>peak-rpm</th>\n",
              "      <td>1.000000</td>\n",
              "      <td>-0.058598</td>\n",
              "      <td>-0.101616</td>\n",
              "    </tr>\n",
              "    <tr>\n",
              "      <th>highway-mpg</th>\n",
              "      <td>-0.058598</td>\n",
              "      <td>1.000000</td>\n",
              "      <td>-0.704692</td>\n",
              "    </tr>\n",
              "    <tr>\n",
              "      <th>price</th>\n",
              "      <td>-0.101616</td>\n",
              "      <td>-0.704692</td>\n",
              "      <td>1.000000</td>\n",
              "    </tr>\n",
              "  </tbody>\n",
              "</table>\n",
              "</div>"
            ],
            "text/plain": [
              "             peak-rpm  highway-mpg     price\n",
              "peak-rpm     1.000000    -0.058598 -0.101616\n",
              "highway-mpg -0.058598     1.000000 -0.704692\n",
              "price       -0.101616    -0.704692  1.000000"
            ]
          },
          "metadata": {
            "tags": []
          },
          "execution_count": 24
        }
      ]
    },
    {
      "metadata": {
        "id": "9eMVkn2u7ZKO",
        "colab_type": "text"
      },
      "cell_type": "markdown",
      "source": [
        "### Residual Plot\n",
        "\n",
        "A good way to visualize the variance of the data is to use a residual plot.\n",
        "\n",
        "What is a **residual**?\n",
        "\n",
        "The difference between the observed value (y) and the predicted value (Yhat) is called the residual (e). When we look at a regression plot, the residual is the distance from the data point to the fitted regression line.\n",
        "\n",
        "So what is a **residual plot**?\n",
        "\n",
        "A residual plot is a graph that shows the residuals on the vertical y-axis and the independent variable on the horizontal x-axis.\n",
        "\n",
        "What do we pay attention to when looking at a residual plot?\n",
        "\n",
        "We look at the spread of the residuals:\n",
        "\n",
        "- If the points in a residual plot are **randomly spread out around the x-axis**, then a **linear model is appropriate** for the data. Why is that? Randomly spread out residuals means that the variance is constant, and thus the linear model is a good fit for this data."
      ]
    },
    {
      "metadata": {
        "id": "4kHeGJUl7ZKQ",
        "colab_type": "code",
        "colab": {
          "base_uri": "https://localhost:8080/",
          "height": 606
        },
        "outputId": "b447f782-832a-4571-b3b8-75bcce7b4773"
      },
      "cell_type": "code",
      "source": [
        "width = 12\n",
        "height = 10\n",
        "plt.figure(figsize=(width, height))\n",
        "sns.residplot(df['highway-mpg'], df['price'])\n",
        "plt.show()"
      ],
      "execution_count": 25,
      "outputs": [
        {
          "output_type": "display_data",
          "data": {
            "image/png": "[encoded data removed]",
            "text/plain": [
              "<matplotlib.figure.Figure at 0x7f92c9c5f6d8>"
            ]
          },
          "metadata": {
            "tags": []
          }
        }
      ]
    },
    {
      "metadata": {
        "id": "HtybZu5X7ZKS",
        "colab_type": "text"
      },
      "cell_type": "markdown",
      "source": [
        "*What is this plot telling us?*\n",
        "\n",
        "We can see from this residual plot that the residuals are not randomly spread around the x-axis, which leads us to believe that maybe a non-linear model is more appropriate for this data."
      ]
    },
    {
      "metadata": {
        "id": "znpsBuu37ZKT",
        "colab_type": "text"
      },
      "cell_type": "markdown",
      "source": [
        "###  Multiple Linear Regression"
      ]
    },
    {
      "metadata": {
        "id": "3QDhndtY7ZKV",
        "colab_type": "text"
      },
      "cell_type": "markdown",
      "source": [
        "How do we visualise a model for Multiple Linear Regression? This gets a bit more complicated because you can't visualise it with regression or residual plot. \n",
        "\n",
        "One way to look at the fit of the model is by looking at the **distribution plot**: We can look at the distribution of the fitted values that result from the model and compare it to the distribution of the actual values."
      ]
    },
    {
      "metadata": {
        "id": "auMNhFNI7ZKX",
        "colab_type": "text"
      },
      "cell_type": "markdown",
      "source": [
        " First lets make a prediction "
      ]
    },
    {
      "metadata": {
        "id": "q_G_mU-z7ZKX",
        "colab_type": "code",
        "colab": {}
      },
      "cell_type": "code",
      "source": [
        "Y_hat = lm.predict(Z)"
      ],
      "execution_count": 0,
      "outputs": []
    },
    {
      "metadata": {
        "id": "8YXSLK8R7ZKb",
        "colab_type": "code",
        "colab": {
          "base_uri": "https://localhost:8080/",
          "height": 620
        },
        "outputId": "66583b86-fd59-4fb4-fdaf-37da8a928b00"
      },
      "cell_type": "code",
      "source": [
        "plt.figure(figsize=(width, height))\n",
        "\n",
        "\n",
        "ax1 = sns.distplot(df['price'], hist=False, color=\"r\", label=\"Actual Value\")\n",
        "sns.distplot(Yhat, hist=False, color=\"b\", label=\"Fitted Values\" , ax=ax1)\n",
        "\n",
        "\n",
        "plt.title('Actual vs Fitted Values for Price')\n",
        "plt.xlabel('Price (in dollars)')\n",
        "plt.ylabel('Proportion of Cars')\n",
        "\n",
        "plt.show()\n",
        "plt.close()"
      ],
      "execution_count": 27,
      "outputs": [
        {
          "output_type": "display_data",
          "data": {
            "image/png": "[encoded data removed]",
            "text/plain": [
              "<matplotlib.figure.Figure at 0x7f92c9b320b8>"
            ]
          },
          "metadata": {
            "tags": []
          }
        }
      ]
    },
    {
      "metadata": {
        "id": "09jYLkru7ZKf",
        "colab_type": "text"
      },
      "cell_type": "markdown",
      "source": [
        "We can see that the fitted values are reasonably close to the actual values, since the two distributions overlap a bit. However, there is definitely some room for improvement."
      ]
    },
    {
      "metadata": {
        "id": "Nk0eU2YJ7ZKf",
        "colab_type": "text"
      },
      "cell_type": "markdown",
      "source": [
        "## Part 3: Polynomial Regression and Pipelines "
      ]
    },
    {
      "metadata": {
        "id": "d5i3Km5Y7ZKg",
        "colab_type": "text"
      },
      "cell_type": "markdown",
      "source": [
        "**Polynomial regression** is a particular case of the general linear regression model or multiple linear regression models. \n",
        "We get non-linear relationships by squaring or setting higher-order terms of the predictor variables.\n",
        "\n",
        "There are different orders of polynomial regression:"
      ]
    },
    {
      "metadata": {
        "id": "BK7pmyRW7ZKh",
        "colab_type": "text"
      },
      "cell_type": "markdown",
      "source": [
        "<center>**Quadratic - 2nd order**</center>\n",
        "\n",
        "\n",
        " \\begin{equation*}\n",
        "Yhat = a + b_1 X^2 +b_2 X^2 \n",
        "\\\\\n",
        "\\end{equation*}\n",
        "\n",
        "\n",
        " <center>**Cubic - 3rd order**</center>\n",
        " \n",
        " \n",
        " \\begin{equation*}\n",
        "Yhat = a + b_1 X^2 +b_2 X^2 +b_3 X^3\\\\\n",
        "\\end{equation*}\n",
        "\n",
        "<center> **Higher order**:</center>\n",
        "\n",
        "\n",
        " \\begin{equation*}\n",
        "Y = a + b_1 X^2 +b_2 X^2 +b_3 X^3 ....\\\\\n",
        "\\end{equation*}"
      ]
    },
    {
      "metadata": {
        "id": "imWE_zcQ7ZKj",
        "colab_type": "text"
      },
      "cell_type": "markdown",
      "source": [
        "We saw earlier that a linear model did not provide the best fit while using highway-mpg as the predictor variable. Let's see if we can try fitting a polynomial model to the data instead."
      ]
    },
    {
      "metadata": {
        "id": "RAPd1VAf7ZKj",
        "colab_type": "text"
      },
      "cell_type": "markdown",
      "source": [
        " We will use the following function to plot the data:"
      ]
    },
    {
      "metadata": {
        "id": "Kwj885BR7ZKk",
        "colab_type": "code",
        "colab": {
          "base_uri": "https://localhost:8080/",
          "height": 35
        },
        "outputId": "bc07baa7-f722-4807-ad3f-01a91565c507"
      },
      "cell_type": "code",
      "source": [
        "def PlotPolly(model,independent_variable,dependent_variabble, Name):\n",
        "    x_new = np.linspace(15, 55, 100)\n",
        "    y_new = model(x_new)\n",
        "\n",
        "    plt.plot(independent_variable,dependent_variabble,'.', x_new, y_new, '-')\n",
        "    plt.title('Polynomial Fit with Matplotlib for Price ~ Length')\n",
        "    ax = plt.gca()\n",
        "    ax.set_axis_bgcolor((0.898, 0.898, 0.898))\n",
        "    fig = plt.gcf()\n",
        "    plt.xlabel(Name)\n",
        "    plt.ylabel('Price of Cars')\n",
        "\n",
        "    plt.show()\n",
        "    plt.close()\n",
        "    \n",
        "print(\"done\")"
      ],
      "execution_count": 28,
      "outputs": [
        {
          "output_type": "stream",
          "text": [
            "done\n"
          ],
          "name": "stdout"
        }
      ]
    },
    {
      "metadata": {
        "id": "-sCYWbKm7ZKn",
        "colab_type": "text"
      },
      "cell_type": "markdown",
      "source": [
        "lets get the variables  "
      ]
    },
    {
      "metadata": {
        "id": "4NKl-7v_7ZKo",
        "colab_type": "code",
        "colab": {
          "base_uri": "https://localhost:8080/",
          "height": 35
        },
        "outputId": "db5b2664-ed0a-4d7d-cdb2-61119ce99cba"
      },
      "cell_type": "code",
      "source": [
        "x = df['highway-mpg']\n",
        "y = df['price']\n",
        "print(\"done\")"
      ],
      "execution_count": 29,
      "outputs": [
        {
          "output_type": "stream",
          "text": [
            "done\n"
          ],
          "name": "stdout"
        }
      ]
    },
    {
      "metadata": {
        "id": "pBTisdH57ZKr",
        "colab_type": "text"
      },
      "cell_type": "markdown",
      "source": [
        "Let's fit the polynomial using the function **polyfit**, then use the function **poly1d** to display the polynomial function."
      ]
    },
    {
      "metadata": {
        "id": "Yq4qiUeK7ZKr",
        "colab_type": "code",
        "colab": {
          "base_uri": "https://localhost:8080/",
          "height": 54
        },
        "outputId": "3084f8ed-20a6-48b5-8e14-2a150171ac9a"
      },
      "cell_type": "code",
      "source": [
        "# Here we use a polynomial of the 3rd order (cubic) \n",
        "f = np.polyfit(x, y, 3)\n",
        "p = np.poly1d(f)\n",
        "print(p)"
      ],
      "execution_count": 30,
      "outputs": [
        {
          "output_type": "stream",
          "text": [
            "        3         2\n",
            "-1.557 x + 204.8 x - 8965 x + 1.379e+05\n"
          ],
          "name": "stdout"
        }
      ]
    },
    {
      "metadata": {
        "id": "Qw6ZZP0K7ZKu",
        "colab_type": "text"
      },
      "cell_type": "markdown",
      "source": [
        " Let's plot the function "
      ]
    },
    {
      "metadata": {
        "id": "A7tGQpP57ZKx",
        "colab_type": "code",
        "colab": {
          "base_uri": "https://localhost:8080/",
          "height": 351
        },
        "outputId": "59cc89d9-ca7d-4b22-fbc6-5e53099aa08a"
      },
      "cell_type": "code",
      "source": [
        "PlotPolly(p,x,y, 'highway-mpg')"
      ],
      "execution_count": 31,
      "outputs": [
        {
          "output_type": "stream",
          "text": [
            "/usr/local/lib/python3.6/dist-packages/ipykernel_launcher.py:8: MatplotlibDeprecationWarning: The set_axis_bgcolor function was deprecated in version 2.0. Use set_facecolor instead.\n",
            "  \n"
          ],
          "name": "stderr"
        },
        {
          "output_type": "display_data",
          "data": {
            "image/png": "[encoded data removed]",
            "text/plain": [
              "<matplotlib.figure.Figure at 0x7f92c9b429b0>"
            ]
          },
          "metadata": {
            "tags": []
          }
        }
      ]
    },
    {
      "metadata": {
        "id": "D_aiG1zq7ZK0",
        "colab_type": "code",
        "colab": {
          "base_uri": "https://localhost:8080/",
          "height": 35
        },
        "outputId": "62ccfdb3-ce48-435d-b989-130de4a0d68e"
      },
      "cell_type": "code",
      "source": [
        "np.polyfit(x, y, 3)"
      ],
      "execution_count": 32,
      "outputs": [
        {
          "output_type": "execute_result",
          "data": {
            "text/plain": [
              "array([-1.55663829e+00,  2.04754306e+02, -8.96543312e+03,  1.37923594e+05])"
            ]
          },
          "metadata": {
            "tags": []
          },
          "execution_count": 32
        }
      ]
    },
    {
      "metadata": {
        "id": "S2pu-MJ17ZK3",
        "colab_type": "text"
      },
      "cell_type": "markdown",
      "source": [
        "We can already see from plotting that this polynomial model performs better than the linear model. This is because the generated polynomial function  \"hits\" more of the data points."
      ]
    },
    {
      "metadata": {
        "id": "1BnKNo6Q7ZK5",
        "colab_type": "text"
      },
      "cell_type": "markdown",
      "source": [
        "<div class=\"alert alert-danger alertdanger\" style=\"margin-top: 20px\">\n",
        "<h1> Question  #4: </h1>\n",
        "<b> Create  11 order polynomial model with the variables x and y from above?  </b>\n",
        "</div>"
      ]
    },
    {
      "metadata": {
        "id": "-ZZg9Dro7ZK7",
        "colab_type": "code",
        "colab": {
          "base_uri": "https://localhost:8080/",
          "height": 387
        },
        "outputId": "c2cee023-e07b-4edb-e459-ad33558ca027"
      },
      "cell_type": "code",
      "source": [
        "# calculate polynomial\n",
        "# Here we use a polynomial of the 3rd order (cubic) \n",
        "f1 = np.polyfit(x, y,11)\n",
        "p1 = np.poly1d(f1)\n",
        "print(p)\n",
        "PlotPolly(p1,x,y, 'Length')"
      ],
      "execution_count": 34,
      "outputs": [
        {
          "output_type": "stream",
          "text": [
            "        3         2\n",
            "-1.557 x + 204.8 x - 8965 x + 1.379e+05\n"
          ],
          "name": "stdout"
        },
        {
          "output_type": "stream",
          "text": [
            "/usr/local/lib/python3.6/dist-packages/ipykernel_launcher.py:8: MatplotlibDeprecationWarning: The set_axis_bgcolor function was deprecated in version 2.0. Use set_facecolor instead.\n",
            "  \n"
          ],
          "name": "stderr"
        },
        {
          "output_type": "display_data",
          "data": {
            "image/png": "[encoded data removed]",
            "text/plain": [
              "<matplotlib.figure.Figure at 0x7f92cbcd2f98>"
            ]
          },
          "metadata": {
            "tags": []
          }
        }
      ]
    },
    {
      "metadata": {
        "id": "dn2viLgn7ZK-",
        "colab_type": "text"
      },
      "cell_type": "markdown",
      "source": [
        "The analytical expression for Multivariate Polynomial function gets complicated. For example, the expression for a second-order (degree=2)polynomial with two variables is given by:"
      ]
    },
    {
      "metadata": {
        "id": "ztfjE_-g7ZK_",
        "colab_type": "text"
      },
      "cell_type": "markdown",
      "source": [
        "\\begin{equation*}\n",
        "Yhat = a + b_1 X_1 +b_2 X_2 +b_3 X_1 X_2+b_4 X_1^2+b_5 X_2^2\n",
        "\\end{equation*}"
      ]
    },
    {
      "metadata": {
        "id": "2jyNt66i7ZLA",
        "colab_type": "text"
      },
      "cell_type": "markdown",
      "source": [
        " We can perform a polynomial transform on multiple features. First, we import the  module:"
      ]
    },
    {
      "metadata": {
        "id": "HyR-d4SW7ZLA",
        "colab_type": "code",
        "colab": {}
      },
      "cell_type": "code",
      "source": [
        "from sklearn.preprocessing import PolynomialFeatures"
      ],
      "execution_count": 0,
      "outputs": []
    },
    {
      "metadata": {
        "id": "Z6_BfE9Q7ZLF",
        "colab_type": "text"
      },
      "cell_type": "markdown",
      "source": [
        "We create a **PolynomialFeatures** object of degree 2: "
      ]
    },
    {
      "metadata": {
        "id": "gtPvKk517ZLG",
        "colab_type": "code",
        "colab": {
          "base_uri": "https://localhost:8080/",
          "height": 35
        },
        "outputId": "1010d1fc-cae5-4e5c-8d53-b9664ea36eb8"
      },
      "cell_type": "code",
      "source": [
        "pr=PolynomialFeatures(degree=2)\n",
        "pr"
      ],
      "execution_count": 36,
      "outputs": [
        {
          "output_type": "execute_result",
          "data": {
            "text/plain": [
              "PolynomialFeatures(degree=2, include_bias=True, interaction_only=False)"
            ]
          },
          "metadata": {
            "tags": []
          },
          "execution_count": 36
        }
      ]
    },
    {
      "metadata": {
        "id": "2HorKHCs7ZLQ",
        "colab_type": "code",
        "colab": {}
      },
      "cell_type": "code",
      "source": [
        "Z_pr=pr.fit_transform(Z)"
      ],
      "execution_count": 0,
      "outputs": []
    },
    {
      "metadata": {
        "id": "w-C3eVTV7ZLU",
        "colab_type": "text"
      },
      "cell_type": "markdown",
      "source": [
        "The original data is of 201 samples and 4 features "
      ]
    },
    {
      "metadata": {
        "id": "jmGIIvvE7ZLV",
        "colab_type": "code",
        "colab": {
          "base_uri": "https://localhost:8080/",
          "height": 35
        },
        "outputId": "9d3f0a2f-dc7e-4fa9-f013-1b62767aa2c3"
      },
      "cell_type": "code",
      "source": [
        "Z.shape"
      ],
      "execution_count": 38,
      "outputs": [
        {
          "output_type": "execute_result",
          "data": {
            "text/plain": [
              "(201, 4)"
            ]
          },
          "metadata": {
            "tags": []
          },
          "execution_count": 38
        }
      ]
    },
    {
      "metadata": {
        "id": "KpDk2z2x7ZLY",
        "colab_type": "text"
      },
      "cell_type": "markdown",
      "source": [
        "after the transformation, there 201 samples and 15 features"
      ]
    },
    {
      "metadata": {
        "id": "eMtwAiyB7ZLZ",
        "colab_type": "code",
        "colab": {
          "base_uri": "https://localhost:8080/",
          "height": 35
        },
        "outputId": "bb8466c4-9e0c-430b-98c0-d8f162c41381"
      },
      "cell_type": "code",
      "source": [
        "Z_pr.shape"
      ],
      "execution_count": 39,
      "outputs": [
        {
          "output_type": "execute_result",
          "data": {
            "text/plain": [
              "(201, 15)"
            ]
          },
          "metadata": {
            "tags": []
          },
          "execution_count": 39
        }
      ]
    },
    {
      "metadata": {
        "id": "F-Q8P0DF7ZLc",
        "colab_type": "text"
      },
      "cell_type": "markdown",
      "source": [
        "## Pipeline "
      ]
    },
    {
      "metadata": {
        "id": "x5hpvUMF7ZLf",
        "colab_type": "text"
      },
      "cell_type": "markdown",
      "source": [
        "Data Pipelines simplify the steps of processing the data. We use the module  **Pipeline** to create a pipeline. We also use **StandardScaler** as a step in our pipeline."
      ]
    },
    {
      "metadata": {
        "id": "QZUBEaED7ZLf",
        "colab_type": "code",
        "colab": {}
      },
      "cell_type": "code",
      "source": [
        "from sklearn.pipeline import Pipeline\n",
        "from sklearn.preprocessing import StandardScaler"
      ],
      "execution_count": 0,
      "outputs": []
    },
    {
      "metadata": {
        "id": "JJJZF0Yz7ZLj",
        "colab_type": "text"
      },
      "cell_type": "markdown",
      "source": [
        "We create the pipeline, by creating a list of tuples including the name of the model or estimator and its corresponding constructor. "
      ]
    },
    {
      "metadata": {
        "id": "dHqHQXvF7ZLj",
        "colab_type": "code",
        "colab": {}
      },
      "cell_type": "code",
      "source": [
        "Input=[('scale',StandardScaler()),('polynomial', PolynomialFeatures(include_bias=False)),('model',LinearRegression())]"
      ],
      "execution_count": 0,
      "outputs": []
    },
    {
      "metadata": {
        "id": "swJ4N6Yw7ZLm",
        "colab_type": "text"
      },
      "cell_type": "markdown",
      "source": [
        "we input the list as an argument to the pipeline constructor "
      ]
    },
    {
      "metadata": {
        "id": "kk5sBthI7ZLn",
        "colab_type": "code",
        "colab": {
          "base_uri": "https://localhost:8080/",
          "height": 74
        },
        "outputId": "3b880f5f-f39f-482d-9f43-e5caf4d77738"
      },
      "cell_type": "code",
      "source": [
        "pipe=Pipeline(Input)\n",
        "pipe"
      ],
      "execution_count": 42,
      "outputs": [
        {
          "output_type": "execute_result",
          "data": {
            "text/plain": [
              "Pipeline(memory=None,\n",
              "     steps=[('scale', StandardScaler(copy=True, with_mean=True, with_std=True)), ('polynomial', PolynomialFeatures(degree=2, include_bias=False, interaction_only=False)), ('model', LinearRegression(copy_X=True, fit_intercept=True, n_jobs=1, normalize=False))])"
            ]
          },
          "metadata": {
            "tags": []
          },
          "execution_count": 42
        }
      ]
    },
    {
      "metadata": {
        "id": "kDHkcKuu7ZLp",
        "colab_type": "text"
      },
      "cell_type": "markdown",
      "source": [
        "We can normalize the data,  perform a transform and fit the model simultaneously. "
      ]
    },
    {
      "metadata": {
        "id": "JfZbVHZt7ZLq",
        "colab_type": "code",
        "colab": {
          "base_uri": "https://localhost:8080/",
          "height": 74
        },
        "outputId": "9c489fa3-5e17-46bf-9217-c678f37da4cc"
      },
      "cell_type": "code",
      "source": [
        "pipe.fit(Z,y)"
      ],
      "execution_count": 43,
      "outputs": [
        {
          "output_type": "execute_result",
          "data": {
            "text/plain": [
              "Pipeline(memory=None,\n",
              "     steps=[('scale', StandardScaler(copy=True, with_mean=True, with_std=True)), ('polynomial', PolynomialFeatures(degree=2, include_bias=False, interaction_only=False)), ('model', LinearRegression(copy_X=True, fit_intercept=True, n_jobs=1, normalize=False))])"
            ]
          },
          "metadata": {
            "tags": []
          },
          "execution_count": 43
        }
      ]
    },
    {
      "metadata": {
        "id": "DoupZjDs7ZLs",
        "colab_type": "text"
      },
      "cell_type": "markdown",
      "source": [
        " Similarly,  we can normalize the data, perform a transform and produce a prediction  simultaneously"
      ]
    },
    {
      "metadata": {
        "id": "GATQpHue7ZLt",
        "colab_type": "code",
        "colab": {
          "base_uri": "https://localhost:8080/",
          "height": 35
        },
        "outputId": "0ca2babd-08ac-4a63-b916-85c995cfa3c2"
      },
      "cell_type": "code",
      "source": [
        "ypipe=pipe.predict(Z)\n",
        "ypipe[0:4]"
      ],
      "execution_count": 44,
      "outputs": [
        {
          "output_type": "execute_result",
          "data": {
            "text/plain": [
              "array([13102.74784201, 13102.74784201, 18225.54572197, 10390.29636555])"
            ]
          },
          "metadata": {
            "tags": []
          },
          "execution_count": 44
        }
      ]
    },
    {
      "metadata": {
        "id": "XBWx5ELv7ZLv",
        "colab_type": "text"
      },
      "cell_type": "markdown",
      "source": [
        "<div class=\"alert alert-danger alertdanger\" style=\"margin-top: 20px\">\n",
        "<h1> Question  #5: </h1>\n",
        "<b>  Create a pipeline that Standardizes the data, then perform prediction using a linear regression model using the features Z and targets y  </b>\n",
        "</div>"
      ]
    },
    {
      "metadata": {
        "id": "6oHD-MvLSv2r",
        "colab_type": "code",
        "colab": {
          "base_uri": "https://localhost:8080/",
          "height": 72
        },
        "outputId": "24f3b2e4-ad98-4377-8f68-54aff9001bb4"
      },
      "cell_type": "code",
      "source": [
        "Input=[('scale',StandardScaler()),('model',LinearRegression())]\n",
        "\n",
        "pipe=Pipeline(Input)\n",
        "\n",
        "pipe.fit(Z,y)\n",
        "\n",
        "ypipe=pipe.predict(Z)\n",
        "ypipe[0:10]\n"
      ],
      "execution_count": 45,
      "outputs": [
        {
          "output_type": "execute_result",
          "data": {
            "text/plain": [
              "array([13699.11161184, 13699.11161184, 19051.65470233, 10620.36193015,\n",
              "       15521.31420211, 13869.66673213, 15456.16196732, 15974.00907672,\n",
              "       17612.35917161, 10722.32509097])"
            ]
          },
          "metadata": {
            "tags": []
          },
          "execution_count": 45
        }
      ]
    },
    {
      "metadata": {
        "id": "ZbScCNUL7ZLx",
        "colab_type": "text"
      },
      "cell_type": "markdown",
      "source": [
        "## Part 4: Measures for In-Sample Evaluation"
      ]
    },
    {
      "metadata": {
        "id": "RQQfK9DA7ZLz",
        "colab_type": "text"
      },
      "cell_type": "markdown",
      "source": [
        "When evaluating our models, not only do we want to visualise the results, but we also want a quantitative measure to determine how accurate the model is.\n",
        "\n",
        "Two very important measures that are often used in Statistics to determine the accuracy of a model are:\n",
        "\n",
        "- **R^2 / R-squared**\n",
        "- **Mean Squared Error (MSE)**\n",
        "\n",
        "**R-squared**\n",
        "\n",
        "R squared, also known as the coefficient of determination, is a measure to indicate how close the data is to the fitted regression line.\n",
        "The value of the R-squared is the percentage of variation of the response variable (y) that is explained by a linear model.\n",
        "\n",
        "\n",
        "\n",
        "**Mean Squared Error (MSE)**\n",
        "\n",
        "The Mean Squared Error measures the average of the squares of errors, that is, the difference between actual value (y) and the estimated value (ŷ)."
      ]
    },
    {
      "metadata": {
        "id": "SoURBvaz7ZL0",
        "colab_type": "text"
      },
      "cell_type": "markdown",
      "source": [
        "### Model 1: Simple Linear Regression"
      ]
    },
    {
      "metadata": {
        "id": "vqFpRNpZ7ZL2",
        "colab_type": "text"
      },
      "cell_type": "markdown",
      "source": [
        "Let's calculate the R^2"
      ]
    },
    {
      "metadata": {
        "id": "Ga8U22WN7ZL2",
        "colab_type": "code",
        "colab": {
          "base_uri": "https://localhost:8080/",
          "height": 35
        },
        "outputId": "82732a88-2bfe-4e4b-8eb2-3368f486f733"
      },
      "cell_type": "code",
      "source": [
        "#highway_mpg_fit\n",
        "lm.fit(X, Y)\n",
        "# Find the R^2\n",
        "lm.score(X, Y)"
      ],
      "execution_count": 46,
      "outputs": [
        {
          "output_type": "execute_result",
          "data": {
            "text/plain": [
              "0.4965911884339176"
            ]
          },
          "metadata": {
            "tags": []
          },
          "execution_count": 46
        }
      ]
    },
    {
      "metadata": {
        "id": "YVa2xlAb7ZL5",
        "colab_type": "text"
      },
      "cell_type": "markdown",
      "source": [
        "We can say that ~ 49.659% of the variation of the price is explained by this simple linear model \"horsepower_fit\"."
      ]
    },
    {
      "metadata": {
        "id": "h14eEOg17ZL5",
        "colab_type": "text"
      },
      "cell_type": "markdown",
      "source": [
        "Let's calculate the MSE"
      ]
    },
    {
      "metadata": {
        "id": "B9eScGoq7ZL7",
        "colab_type": "text"
      },
      "cell_type": "markdown",
      "source": [
        "We can predict the output i.e., \"yhat\" using the predict method, where X is the input variable:"
      ]
    },
    {
      "metadata": {
        "id": "TH8-pj0f7ZL7",
        "colab_type": "code",
        "colab": {
          "base_uri": "https://localhost:8080/",
          "height": 35
        },
        "outputId": "6ffef632-62c8-4d47-e802-d936679dc9de"
      },
      "cell_type": "code",
      "source": [
        "Yhat=lm.predict(X)\n",
        "Yhat[0:4]"
      ],
      "execution_count": 47,
      "outputs": [
        {
          "output_type": "execute_result",
          "data": {
            "text/plain": [
              "array([16236.50464347, 16236.50464347, 17058.23802179, 13771.3045085 ])"
            ]
          },
          "metadata": {
            "tags": []
          },
          "execution_count": 47
        }
      ]
    },
    {
      "metadata": {
        "id": "niiphJ-g7ZL9",
        "colab_type": "text"
      },
      "cell_type": "markdown",
      "source": [
        " lets import the function **mean_squared_error** from the module **metrics**"
      ]
    },
    {
      "metadata": {
        "id": "TsXqbcXB7ZL-",
        "colab_type": "code",
        "colab": {}
      },
      "cell_type": "code",
      "source": [
        "from sklearn.metrics import mean_squared_error"
      ],
      "execution_count": 0,
      "outputs": []
    },
    {
      "metadata": {
        "id": "wVelHvcp7ZMB",
        "colab_type": "text"
      },
      "cell_type": "markdown",
      "source": [
        " we compare the predicted results with the actual results "
      ]
    },
    {
      "metadata": {
        "id": "s7yxRYhz7ZMB",
        "colab_type": "code",
        "colab": {
          "base_uri": "https://localhost:8080/",
          "height": 35
        },
        "outputId": "a71bbf79-fd4a-45d3-dfed-57a24ee9f9ba"
      },
      "cell_type": "code",
      "source": [
        "#mean_squared_error(Y_true, Y_predict)\n",
        "mean_squared_error(df['price'], Yhat)"
      ],
      "execution_count": 49,
      "outputs": [
        {
          "output_type": "execute_result",
          "data": {
            "text/plain": [
              "31635042.944639888"
            ]
          },
          "metadata": {
            "tags": []
          },
          "execution_count": 49
        }
      ]
    },
    {
      "metadata": {
        "id": "3Hi01vIs7ZMI",
        "colab_type": "text"
      },
      "cell_type": "markdown",
      "source": [
        "### Model 2: Multiple Linear Regression"
      ]
    },
    {
      "metadata": {
        "id": "E3lublUm7ZMJ",
        "colab_type": "text"
      },
      "cell_type": "markdown",
      "source": [
        "Let's calculate the R^2"
      ]
    },
    {
      "metadata": {
        "id": "vjIjXCOl7ZMK",
        "colab_type": "code",
        "colab": {
          "base_uri": "https://localhost:8080/",
          "height": 35
        },
        "outputId": "8c04581c-a6a0-4d8b-905f-2215a67ba69c"
      },
      "cell_type": "code",
      "source": [
        "# fit the model \n",
        "lm.fit(Z, df[['price']])\n",
        "# Find the R^2\n",
        "lm.score(Z, df[['price']])"
      ],
      "execution_count": 51,
      "outputs": [
        {
          "output_type": "execute_result",
          "data": {
            "text/plain": [
              "0.8093562806577457"
            ]
          },
          "metadata": {
            "tags": []
          },
          "execution_count": 51
        }
      ]
    },
    {
      "metadata": {
        "id": "0DFBuztz7ZMM",
        "colab_type": "text"
      },
      "cell_type": "markdown",
      "source": [
        "We can say that ~ 80.896 % of the variation of price is explained by this multiple linear regression \"multi_fit\"."
      ]
    },
    {
      "metadata": {
        "id": "gkB6Tewm7ZMM",
        "colab_type": "text"
      },
      "cell_type": "markdown",
      "source": [
        "Let's calculate the MSE"
      ]
    },
    {
      "metadata": {
        "id": "VzeEaXBZ7ZMN",
        "colab_type": "text"
      },
      "cell_type": "markdown",
      "source": [
        " we produce a prediction "
      ]
    },
    {
      "metadata": {
        "id": "_l7GlPVO7ZMO",
        "colab_type": "code",
        "colab": {}
      },
      "cell_type": "code",
      "source": [
        "Y_predict_multifit = lm.predict(Z)\n"
      ],
      "execution_count": 0,
      "outputs": []
    },
    {
      "metadata": {
        "id": "OAxaLA5f7ZMR",
        "colab_type": "text"
      },
      "cell_type": "markdown",
      "source": [
        " we compare the predicted results with the actual results "
      ]
    },
    {
      "metadata": {
        "id": "IpOOhCac7ZMR",
        "colab_type": "code",
        "colab": {
          "base_uri": "https://localhost:8080/",
          "height": 35
        },
        "outputId": "d5f9a749-1dd7-4821-964f-c1dd5e1e8dfc"
      },
      "cell_type": "code",
      "source": [
        "mean_squared_error(df['price'], Y_predict_multifit)"
      ],
      "execution_count": 53,
      "outputs": [
        {
          "output_type": "execute_result",
          "data": {
            "text/plain": [
              "11980366.87072649"
            ]
          },
          "metadata": {
            "tags": []
          },
          "execution_count": 53
        }
      ]
    },
    {
      "metadata": {
        "id": "ZC7Pk3Dq7ZMc",
        "colab_type": "text"
      },
      "cell_type": "markdown",
      "source": [
        "### Model 3: Polynomial Fit"
      ]
    },
    {
      "metadata": {
        "id": "JXhYiVu97ZMd",
        "colab_type": "text"
      },
      "cell_type": "markdown",
      "source": [
        "Let's calculate the R^2"
      ]
    },
    {
      "metadata": {
        "id": "znW4cWa77ZMd",
        "colab_type": "text"
      },
      "cell_type": "markdown",
      "source": [
        " let’s import the function **r2_score** from the module ** metrics** as we are using a different function  \n"
      ]
    },
    {
      "metadata": {
        "id": "2jdDaTRU7ZMe",
        "colab_type": "code",
        "colab": {}
      },
      "cell_type": "code",
      "source": [
        "from sklearn.metrics import r2_score"
      ],
      "execution_count": 0,
      "outputs": []
    },
    {
      "metadata": {
        "id": "84nJiP7T7ZMg",
        "colab_type": "text"
      },
      "cell_type": "markdown",
      "source": [
        "We apply the function to get the value of r^2"
      ]
    },
    {
      "metadata": {
        "id": "QGH-sPip7ZMh",
        "colab_type": "code",
        "colab": {
          "base_uri": "https://localhost:8080/",
          "height": 35
        },
        "outputId": "4600d4ab-827c-4ced-fabc-d41d0c87b2e3"
      },
      "cell_type": "code",
      "source": [
        "r_squared = r2_score(y, p(x))\n",
        "r_squared"
      ],
      "execution_count": 55,
      "outputs": [
        {
          "output_type": "execute_result",
          "data": {
            "text/plain": [
              "0.674194666390652"
            ]
          },
          "metadata": {
            "tags": []
          },
          "execution_count": 55
        }
      ]
    },
    {
      "metadata": {
        "id": "g4frtpKK7ZMn",
        "colab_type": "text"
      },
      "cell_type": "markdown",
      "source": [
        "We can say that ~ 67.419 % of the variation of price is explained by this polynomial fit"
      ]
    },
    {
      "metadata": {
        "id": "FbFrDHvA7ZMn",
        "colab_type": "text"
      },
      "cell_type": "markdown",
      "source": [
        "### MSE"
      ]
    },
    {
      "metadata": {
        "id": "oPZSjD8Z7ZMp",
        "colab_type": "text"
      },
      "cell_type": "markdown",
      "source": [
        " We can also calculate the MSE:  "
      ]
    },
    {
      "metadata": {
        "id": "sQalq0bB7ZMr",
        "colab_type": "code",
        "colab": {
          "base_uri": "https://localhost:8080/",
          "height": 35
        },
        "outputId": "fcd5fe9b-b49e-4fed-fd78-76cc85f9b89d"
      },
      "cell_type": "code",
      "source": [
        "mean_squared_error(df['price'], p(x))"
      ],
      "execution_count": 56,
      "outputs": [
        {
          "output_type": "execute_result",
          "data": {
            "text/plain": [
              "20474146.426361218"
            ]
          },
          "metadata": {
            "tags": []
          },
          "execution_count": 56
        }
      ]
    },
    {
      "metadata": {
        "id": "d6N2guOp7ZMv",
        "colab_type": "text"
      },
      "cell_type": "markdown",
      "source": [
        "## Part 5: Prediction and Decision Making\n",
        "### Prediction\n",
        "\n",
        "In the previous section, we trained the model using the method **fit**. Now we will use the method **predict** to produce a prediction.Lets import **pyplot** for plotting; we will also be using some functions from numpy. \n",
        " \n"
      ]
    },
    {
      "metadata": {
        "id": "dChRrLVU7ZMx",
        "colab_type": "code",
        "colab": {}
      },
      "cell_type": "code",
      "source": [
        "import matplotlib.pyplot as plt\n",
        "import numpy as np\n",
        "\n",
        "%matplotlib inline "
      ],
      "execution_count": 0,
      "outputs": []
    },
    {
      "metadata": {
        "id": "bZZCCgfd7ZM1",
        "colab_type": "text"
      },
      "cell_type": "markdown",
      "source": [
        "Create a  new input "
      ]
    },
    {
      "metadata": {
        "id": "BWSG5SBY7ZM2",
        "colab_type": "code",
        "colab": {}
      },
      "cell_type": "code",
      "source": [
        "new_input=np.arange(1,100,1).reshape(-1,1)"
      ],
      "execution_count": 0,
      "outputs": []
    },
    {
      "metadata": {
        "id": "0uD1bTkA7ZM4",
        "colab_type": "text"
      },
      "cell_type": "markdown",
      "source": [
        " Fit the model "
      ]
    },
    {
      "metadata": {
        "id": "5K6EH-bE7ZM6",
        "colab_type": "code",
        "colab": {
          "base_uri": "https://localhost:8080/",
          "height": 35
        },
        "outputId": "2ae052d0-f252-4fa9-c1c4-dc9f59066a97"
      },
      "cell_type": "code",
      "source": [
        "lm.fit(X, Y)\n",
        "lm"
      ],
      "execution_count": 59,
      "outputs": [
        {
          "output_type": "execute_result",
          "data": {
            "text/plain": [
              "LinearRegression(copy_X=True, fit_intercept=True, n_jobs=1, normalize=False)"
            ]
          },
          "metadata": {
            "tags": []
          },
          "execution_count": 59
        }
      ]
    },
    {
      "metadata": {
        "id": "ijjnGbwR7ZM_",
        "colab_type": "text"
      },
      "cell_type": "markdown",
      "source": [
        "Produce a prediction "
      ]
    },
    {
      "metadata": {
        "id": "QaxjMvTd7ZNA",
        "colab_type": "code",
        "colab": {
          "base_uri": "https://localhost:8080/",
          "height": 54
        },
        "outputId": "0f3be9e2-4915-4191-ea86-3c136181207b"
      },
      "cell_type": "code",
      "source": [
        "yhat=lm.predict(new_input)\n",
        "yhat[0:5]"
      ],
      "execution_count": 60,
      "outputs": [
        {
          "output_type": "execute_result",
          "data": {
            "text/plain": [
              "array([37601.57247984, 36779.83910151, 35958.10572319, 35136.37234487,\n",
              "       34314.63896655])"
            ]
          },
          "metadata": {
            "tags": []
          },
          "execution_count": 60
        }
      ]
    },
    {
      "metadata": {
        "id": "MPIiCznW7ZND",
        "colab_type": "text"
      },
      "cell_type": "markdown",
      "source": [
        "we can plot the data "
      ]
    },
    {
      "metadata": {
        "id": "8K1SA8L27ZNE",
        "colab_type": "code",
        "colab": {
          "base_uri": "https://localhost:8080/",
          "height": 265
        },
        "outputId": "7351c330-3864-4242-feef-ea4eabc122cb"
      },
      "cell_type": "code",
      "source": [
        "plt.plot(new_input,yhat)\n",
        "plt.show()"
      ],
      "execution_count": 61,
      "outputs": [
        {
          "output_type": "display_data",
          "data": {
            "image/png": "[encoded data removed]",
            "text/plain": [
              "<matplotlib.figure.Figure at 0x7f92c9afd2b0>"
            ]
          },
          "metadata": {
            "tags": []
          }
        }
      ]
    },
    {
      "metadata": {
        "id": "bNXNTqoi7ZNJ",
        "colab_type": "text"
      },
      "cell_type": "markdown",
      "source": [
        "### Decision Making: Determining a Good Model Fit"
      ]
    },
    {
      "metadata": {
        "id": "fs-B2afL7ZNK",
        "colab_type": "text"
      },
      "cell_type": "markdown",
      "source": [
        "Now that we have visualized the different models, and generated the R-squared and MSE values for the fits, how do we determine a good model fit?\n",
        "\n",
        "- *What is a good R-squared value?*\n",
        "\n",
        "When comparing models, **the model with the higher R-squared value is a better fit** for the data.\n",
        "\n",
        "\n",
        "- *What is a good MSE?*\n",
        "\n",
        "When comparing models, **the model with the smallest MSE value is a better fit** for the data.#### Let's take a look at the values for the different models we get.\n",
        "\n",
        "#### Let's take a look at the values for the different models.\n",
        "Simple Linear Regression: Using Highway-mpg as a Predictor Variable of Price.\n",
        "- R-squared: 0.49659118843391759\n",
        "- MSE: 3.16 x10^7\n",
        "\n",
        "Multiple Linear Regression: Using Horsepower, Curb-weight, Engine-size, and Highway-mpg as Predictor Variables of Price.\n",
        "- R-squared: 0.80896354913783497\n",
        "- MSE: 1.2 x10^7\n",
        "\n",
        "Polynomial Fit: Using Highway-mpg as a Predictor Variable of Price.\n",
        "- R-squared: 0.6741946663906514\n",
        "- MSE: 2.05 x 10^7"
      ]
    },
    {
      "metadata": {
        "id": "8B83hLZr7ZNL",
        "colab_type": "text"
      },
      "cell_type": "markdown",
      "source": [
        "### Simple Linear Regression model (SLR) vs Multiple Linear Regression model (MLR)"
      ]
    },
    {
      "metadata": {
        "id": "FtvPIJwD7ZNL",
        "colab_type": "text"
      },
      "cell_type": "markdown",
      "source": [
        "Usually, the more variables you have, the better your model is at predicting, but this is not always true. Sometimes you may not have enough data, you may run into numerical problems, or many of the variables may not be useful and or even act as noise. As a result, you should always check the MSE and R^2. \n",
        "\n",
        "So to be able to compare the results of the MLR vs SLR models, we look at a combination of both the R-squared and MSE to make the best conclusion about the fit of the model.\n",
        " \n",
        "\n",
        "- **MSE ** \n",
        "The MSE of SLR is  3.16x10^7  while MLR has an MSE of 1.2 x10^7.  The MSE of MLR is much smaller. \n",
        "\n",
        "\n",
        "- **R-squared**: \n",
        "In this case, we can also see that there is a big difference between the R-squared of the SLR and the R-squared of the MLR. The R-squared for the SLR (~0.497) is very small compared to the R-squared for the MLR (~0.809). \n",
        "\n",
        "This R-squared in combination with the MSE show that MLR seems like the better model fit in this case, compared to SLR."
      ]
    },
    {
      "metadata": {
        "id": "2t6cxsnc7ZNM",
        "colab_type": "text"
      },
      "cell_type": "markdown",
      "source": [
        "### Simple Linear Model (SLR) vs Polynomial Fit"
      ]
    },
    {
      "metadata": {
        "id": "0bJEZuAz7ZNN",
        "colab_type": "text"
      },
      "cell_type": "markdown",
      "source": [
        "- **MSE**: We can see that Polynomial Fit brought down the MSE, since this MSE is smaller than the one from the SLR. \n",
        "\n",
        "- **R-squared**: The R-squared for the Polyfit is larger than the R-squared for the SLR, so the Polynomial Fit also brought up the R-squared quite a bit.\n",
        "\n",
        "Since the Polynomial Fit resulted in a lower MSE and a higher R-squared, we can conclude that this was a better fit model than the simple linear regression for predicting Price with Highway-mpg as a predictor variable."
      ]
    },
    {
      "metadata": {
        "id": "515yfAkp7ZNN",
        "colab_type": "text"
      },
      "cell_type": "markdown",
      "source": [
        "### Multiple Linear Regression (MLR) vs Polynomial Fit"
      ]
    },
    {
      "metadata": {
        "id": "sou9-skW7ZNO",
        "colab_type": "text"
      },
      "cell_type": "markdown",
      "source": [
        "- **MSE**: The MSE for the MLR is smaller than the MSE for the Polynomial Fit.\n",
        "- **R-squared**: The R-squared for the MLR is also much larger than for the Polynomial Fit."
      ]
    },
    {
      "metadata": {
        "id": "Mo2dBejr7ZNR",
        "colab_type": "text"
      },
      "cell_type": "markdown",
      "source": [
        "## Conclusion: "
      ]
    },
    {
      "metadata": {
        "id": "5d0aTgB57ZNS",
        "colab_type": "text"
      },
      "cell_type": "markdown",
      "source": [
        "Comparing these three models, we conclude that **the MLR model is the best model** to be able to predict price from our dataset. This result makes sense, since we have 27 variables in total, and we know that more than one of those variables are potential predictors of the final car price. "
      ]
    },
    {
      "metadata": {
        "id": "PZKftGbZ7ZNS",
        "colab_type": "text"
      },
      "cell_type": "markdown",
      "source": [
        "### About the Authors:  \n",
        "\n",
        "This notebook written by [Mahdi Noorian PhD](https://www.linkedin.com/in/mahdi-noorian-58219234/) ,[Joseph Santarcangelo PhD]( https://www.linkedin.com/in/joseph-s-50398b136/), Bahare Talayian, Eric Xiao, Steven Dong, Parizad , Hima Vsudevan and [Fiorella Wenver](https://www.linkedin.com/in/fiorellawever/).\n",
        "Copyright &copy; 2017 [cognitiveclass.ai](cognitiveclass.ai?utm_source=bducopyrightlink&utm_medium=dswb&utm_campaign=bdu). This notebook and its source code are released under the terms of the [MIT License](https://bigdatauniversity.com/mit-license/)."
      ]
    }
  ]
}